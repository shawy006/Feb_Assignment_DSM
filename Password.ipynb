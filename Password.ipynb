{
 "cells": [
  {
   "cell_type": "code",
   "execution_count": 17,
   "id": "4214087d",
   "metadata": {},
   "outputs": [
    {
     "name": "stdout",
     "output_type": "stream",
     "text": [
      "Sudhanshu@Krish##123\n"
     ]
    },
    {
     "data": {
      "text/plain": [
       "'Valid Password'"
      ]
     },
     "execution_count": 17,
     "metadata": {},
     "output_type": "execute_result"
    }
   ],
   "source": [
    "def password_check(password):\n",
    "    if len(password)>=10:\n",
    "        upper,lower,number,special_char=0,0,0,0\n",
    "        for i in password:\n",
    "            if i.isupper()==True:\n",
    "                upper+=1\n",
    "            elif i.islower()==True:\n",
    "                lower+=1\n",
    "            elif i.isdigit()==True:\n",
    "                number+=1\n",
    "            else:\n",
    "                special_char+=1\n",
    "        if upper>=2 and lower>=2 and number>=1 and special_char>=3:\n",
    "            return \"Valid Password\"\n",
    "        else:\n",
    "            return \"Invalid Password\"\n",
    "        \n",
    "    else:\n",
    "        return \"Invalid Password\"\n",
    "\n",
    "user_pass=input()\n",
    "password_check(user_pass)\n",
    "        "
   ]
  },
  {
   "cell_type": "code",
   "execution_count": 20,
   "id": "b34a4881",
   "metadata": {},
   "outputs": [],
   "source": [
    "a=lambda x: True if x[0]=='s' else False\n"
   ]
  },
  {
   "cell_type": "code",
   "execution_count": 21,
   "id": "01184c9a",
   "metadata": {},
   "outputs": [
    {
     "data": {
      "text/plain": [
       "True"
      ]
     },
     "execution_count": 21,
     "metadata": {},
     "output_type": "execute_result"
    }
   ],
   "source": [
    "a('shawy')"
   ]
  },
  {
   "cell_type": "code",
   "execution_count": 22,
   "id": "a24eb740",
   "metadata": {},
   "outputs": [
    {
     "data": {
      "text/plain": [
       "False"
      ]
     },
     "execution_count": 22,
     "metadata": {},
     "output_type": "execute_result"
    }
   ],
   "source": [
    "a('peter')"
   ]
  },
  {
   "cell_type": "code",
   "execution_count": 37,
   "id": "6e2935bc",
   "metadata": {},
   "outputs": [],
   "source": [
    "b=lambda x: True if type(int(x))==int else False"
   ]
  },
  {
   "cell_type": "code",
   "execution_count": 38,
   "id": "2951f1c3",
   "metadata": {},
   "outputs": [
    {
     "data": {
      "text/plain": [
       "True"
      ]
     },
     "execution_count": 38,
     "metadata": {},
     "output_type": "execute_result"
    }
   ],
   "source": [
    "b('1234')"
   ]
  },
  {
   "cell_type": "code",
   "execution_count": 39,
   "id": "8d934810",
   "metadata": {},
   "outputs": [
    {
     "data": {
      "text/plain": [
       "[('grapes', 1000), ('mango', 99), ('orange', 80)]"
      ]
     },
     "execution_count": 39,
     "metadata": {},
     "output_type": "execute_result"
    }
   ],
   "source": [
    "given=[(\"mango\",99),(\"orange\",80), (\"grapes\", 1000)]\n",
    "sorted(given)"
   ]
  },
  {
   "cell_type": "code",
   "execution_count": 42,
   "id": "55a2eebe",
   "metadata": {},
   "outputs": [
    {
     "data": {
      "text/plain": [
       "[('orange', 80), ('mango', 99), ('grapes', 1000)]"
      ]
     },
     "execution_count": 42,
     "metadata": {},
     "output_type": "execute_result"
    }
   ],
   "source": [
    "sorted(given, key= lambda x:x[1])"
   ]
  },
  {
   "cell_type": "code",
   "execution_count": 43,
   "id": "d10661e4",
   "metadata": {},
   "outputs": [
    {
     "data": {
      "text/plain": [
       "[1, 4, 9, 16, 25, 36, 49, 64, 81, 100]"
      ]
     },
     "execution_count": 43,
     "metadata": {},
     "output_type": "execute_result"
    }
   ],
   "source": [
    "[x**2 for x in range(1,11)]"
   ]
  },
  {
   "cell_type": "code",
   "execution_count": 45,
   "id": "44899b47",
   "metadata": {},
   "outputs": [
    {
     "data": {
      "text/plain": [
       "[1.0,\n",
       " 1.2599210498948732,\n",
       " 1.4422495703074083,\n",
       " 1.5874010519681994,\n",
       " 1.7099759466766968,\n",
       " 1.8171205928321397,\n",
       " 1.912931182772389,\n",
       " 2.0,\n",
       " 2.080083823051904,\n",
       " 2.154434690031884]"
      ]
     },
     "execution_count": 45,
     "metadata": {},
     "output_type": "execute_result"
    }
   ],
   "source": [
    "[x**(1/3) for x in range(1,11)]"
   ]
  },
  {
   "cell_type": "code",
   "execution_count": 50,
   "id": "7084382c",
   "metadata": {},
   "outputs": [
    {
     "data": {
      "text/plain": [
       "False"
      ]
     },
     "execution_count": 50,
     "metadata": {},
     "output_type": "execute_result"
    }
   ],
   "source": [
    "c=lambda x: x%2==0\n",
    "c(11)"
   ]
  },
  {
   "cell_type": "code",
   "execution_count": 51,
   "id": "5759848c",
   "metadata": {},
   "outputs": [
    {
     "data": {
      "text/plain": [
       "True"
      ]
     },
     "execution_count": 51,
     "metadata": {},
     "output_type": "execute_result"
    }
   ],
   "source": [
    "c(8)"
   ]
  },
  {
   "cell_type": "code",
   "execution_count": 52,
   "id": "cae9e29f",
   "metadata": {},
   "outputs": [
    {
     "data": {
      "text/plain": [
       "[1, 3, 5, 7, 9]"
      ]
     },
     "execution_count": 52,
     "metadata": {},
     "output_type": "execute_result"
    }
   ],
   "source": [
    "list(filter(lambda x: x%2!=0 , range(1,11)))"
   ]
  },
  {
   "cell_type": "code",
   "execution_count": 90,
   "id": "2bf7ac86",
   "metadata": {},
   "outputs": [
    {
     "data": {
      "text/plain": [
       "([0, 1, 2, 3, 4, 5, 6], [-5, -4, -3, -2, -1])"
      ]
     },
     "execution_count": 90,
     "metadata": {},
     "output_type": "execute_result"
    }
   ],
   "source": [
    "given2= [1,2,3,4,5,6,-1,-2,-3,-4,-5,0]\n",
    "positive=[p for p in sorted(given2) if p>=0]\n",
    "negative=[n for n in sorted(given2) if n<0]\n",
    "positive,negative"
   ]
  },
  {
   "cell_type": "code",
   "execution_count": null,
   "id": "8c35c59d",
   "metadata": {},
   "outputs": [],
   "source": []
  }
 ],
 "metadata": {
  "kernelspec": {
   "display_name": "Python 3 (ipykernel)",
   "language": "python",
   "name": "python3"
  },
  "language_info": {
   "codemirror_mode": {
    "name": "ipython",
    "version": 3
   },
   "file_extension": ".py",
   "mimetype": "text/x-python",
   "name": "python",
   "nbconvert_exporter": "python",
   "pygments_lexer": "ipython3",
   "version": "3.9.13"
  }
 },
 "nbformat": 4,
 "nbformat_minor": 5
}
